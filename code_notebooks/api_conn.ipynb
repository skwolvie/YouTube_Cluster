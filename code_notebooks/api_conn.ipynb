{
 "cells": [
  {
   "cell_type": "code",
   "execution_count": 1,
   "metadata": {},
   "outputs": [
    {
     "name": "stdout",
     "output_type": "stream",
     "text": [
      "Please enter the path to your secrets file: \n"
     ]
    }
   ],
   "source": [
    "# -*- coding: utf-8 -*-\n",
    "\n",
    "import os\n",
    "import pandas as pd\n",
    "import google_auth_oauthlib.flow\n",
    "import googleapiclient.discovery\n",
    "import googleapiclient.errors\n",
    "\n",
    "scopes = [\"https://www.googleapis.com/auth/youtube.readonly\"]\n",
    "\n",
    "def main():\n",
    "    # Disable OAuthlib's HTTPS verification when running locally.\n",
    "    # *DO NOT* leave this option enabled in production.\n",
    "    os.environ[\"OAUTHLIB_INSECURE_TRANSPORT\"] = \"1\"\n",
    "\n",
    "    api_service_name = \"youtube\"\n",
    "    api_version = \"v3\"\n",
    "    client_secrets_file = \"../secrets/sks1999_desktop.json\"\n",
    "\n",
    "    # Get credentials and create an API client\n",
    "    flow = google_auth_oauthlib.flow.InstalledAppFlow.from_client_secrets_file(\n",
    "        client_secrets_file, scopes)\n",
    "    credentials = flow.run_console()\n",
    "    youtube = googleapiclient.discovery.build(\n",
    "        api_service_name, api_version, credentials=credentials)\n",
    "\n",
    "    request = youtube.subscriptions().list(\n",
    "        part='snippet',\n",
    "        mine=True,\n",
    "        maxResults=50\n",
    "    )\n",
    "    channels = []\n",
    "    while request is not None:\n",
    "        response = request.execute()\n",
    "        channels += response.get(\"items\", [])\n",
    "        request = youtube.subscriptions().list_next(request, response)\n",
    "\n",
    "    channel_data = []\n",
    "    for channel in channels:\n",
    "        channel_data.append({\n",
    "            \"channel_title\": channel[\"snippet\"][\"title\"],\n",
    "            \"channel_descr\": channel[\"snippet\"][\"description\"],\n",
    "            \"channel_id\": channel[\"snippet\"][\"resourceId\"][\"channelId\"]\n",
    "        })\n",
    "    \n",
    "    df = pd.DataFrame(channel_data)\n",
    "    df.to_csv(\"../data/subscribed_channels.csv\", index=False)\n",
    "    print(\"The data has been saved to subscribed_channels.csv\")\n",
    "\n",
    "\n",
    "\n",
    "if __name__ == \"__main__\":\n",
    "    main()"
   ]
  },
  {
   "cell_type": "code",
   "execution_count": null,
   "metadata": {},
   "outputs": [],
   "source": []
  }
 ],
 "metadata": {
  "kernelspec": {
   "display_name": "base",
   "language": "python",
   "name": "python3"
  },
  "language_info": {
   "codemirror_mode": {
    "name": "ipython",
    "version": 3
   },
   "file_extension": ".py",
   "mimetype": "text/x-python",
   "name": "python",
   "nbconvert_exporter": "python",
   "pygments_lexer": "ipython3",
   "version": "3.10.6"
  },
  "orig_nbformat": 4,
  "vscode": {
   "interpreter": {
    "hash": "169b05a80b39c6e3fc108e186a9aefc48bf46eb305dec0f1d7bd62f7d772e1fd"
   }
  }
 },
 "nbformat": 4,
 "nbformat_minor": 2
}
